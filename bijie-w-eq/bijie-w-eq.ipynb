{
 "cells": [
  {
   "cell_type": "code",
   "execution_count": 1,
   "id": "32a4737d",
   "metadata": {
    "execution": {
     "iopub.execute_input": "2025-03-19T14:06:15.876043Z",
     "iopub.status.busy": "2025-03-19T14:06:15.875730Z",
     "iopub.status.idle": "2025-03-19T14:06:37.077516Z",
     "shell.execute_reply": "2025-03-19T14:06:37.076408Z"
    },
    "papermill": {
     "duration": 21.208226,
     "end_time": "2025-03-19T14:06:37.079173",
     "exception": false,
     "start_time": "2025-03-19T14:06:15.870947",
     "status": "completed"
    },
    "tags": []
   },
   "outputs": [
    {
     "name": "stdout",
     "output_type": "stream",
     "text": [
      "Collecting escnn\r\n",
      "  Downloading escnn-1.0.11-py3-none-any.whl.metadata (19 kB)\r\n",
      "Requirement already satisfied: torch>=1.3 in /usr/local/lib/python3.10/dist-packages (from escnn) (2.5.1+cu121)\r\n",
      "Requirement already satisfied: numpy in /usr/local/lib/python3.10/dist-packages (from escnn) (1.26.4)\r\n",
      "Requirement already satisfied: scipy in /usr/local/lib/python3.10/dist-packages (from escnn) (1.13.1)\r\n",
      "Collecting lie-learn (from escnn)\r\n",
      "  Downloading lie_learn-0.0.2-cp310-cp310-manylinux_2_5_x86_64.manylinux1_x86_64.manylinux_2_17_x86_64.manylinux2014_x86_64.whl.metadata (5.3 kB)\r\n",
      "Requirement already satisfied: joblib in /usr/local/lib/python3.10/dist-packages (from escnn) (1.4.2)\r\n",
      "Collecting pymanopt (from escnn)\r\n",
      "  Downloading pymanopt-2.2.1-py3-none-any.whl.metadata (7.0 kB)\r\n",
      "Requirement already satisfied: autograd in /usr/local/lib/python3.10/dist-packages (from escnn) (1.7.0)\r\n",
      "Collecting py3nj (from escnn)\r\n",
      "  Downloading py3nj-0.2.1.tar.gz (49 kB)\r\n",
      "\u001b[2K     \u001b[90m━━━━━━━━━━━━━━━━━━━━━━━━━━━━━━━━━━━━━━━━\u001b[0m \u001b[32m50.0/50.0 kB\u001b[0m \u001b[31m2.6 MB/s\u001b[0m eta \u001b[36m0:00:00\u001b[0m\r\n",
      "\u001b[?25h  Installing build dependencies ... \u001b[?25l\u001b[?25hdone\r\n",
      "  Getting requirements to build wheel ... \u001b[?25l\u001b[?25hdone\r\n",
      "  Installing backend dependencies ... \u001b[?25l\u001b[?25hdone\r\n",
      "  Preparing metadata (pyproject.toml) ... \u001b[?25l\u001b[?25hdone\r\n",
      "Requirement already satisfied: filelock in /usr/local/lib/python3.10/dist-packages (from torch>=1.3->escnn) (3.17.0)\r\n",
      "Requirement already satisfied: typing-extensions>=4.8.0 in /usr/local/lib/python3.10/dist-packages (from torch>=1.3->escnn) (4.12.2)\r\n",
      "Requirement already satisfied: networkx in /usr/local/lib/python3.10/dist-packages (from torch>=1.3->escnn) (3.4.2)\r\n",
      "Requirement already satisfied: jinja2 in /usr/local/lib/python3.10/dist-packages (from torch>=1.3->escnn) (3.1.4)\r\n",
      "Requirement already satisfied: fsspec in /usr/local/lib/python3.10/dist-packages (from torch>=1.3->escnn) (2024.12.0)\r\n",
      "Requirement already satisfied: sympy==1.13.1 in /usr/local/lib/python3.10/dist-packages (from torch>=1.3->escnn) (1.13.1)\r\n",
      "Requirement already satisfied: mpmath<1.4,>=1.1.0 in /usr/local/lib/python3.10/dist-packages (from sympy==1.13.1->torch>=1.3->escnn) (1.3.0)\r\n",
      "Requirement already satisfied: requests in /usr/local/lib/python3.10/dist-packages (from lie-learn->escnn) (2.32.3)\r\n",
      "Requirement already satisfied: mkl_fft in /usr/local/lib/python3.10/dist-packages (from numpy->escnn) (1.3.8)\r\n",
      "Requirement already satisfied: mkl_random in /usr/local/lib/python3.10/dist-packages (from numpy->escnn) (1.2.4)\r\n",
      "Requirement already satisfied: mkl_umath in /usr/local/lib/python3.10/dist-packages (from numpy->escnn) (0.1.1)\r\n",
      "Requirement already satisfied: mkl in /usr/local/lib/python3.10/dist-packages (from numpy->escnn) (2025.0.1)\r\n",
      "Requirement already satisfied: tbb4py in /usr/local/lib/python3.10/dist-packages (from numpy->escnn) (2022.0.0)\r\n",
      "Requirement already satisfied: mkl-service in /usr/local/lib/python3.10/dist-packages (from numpy->escnn) (2.4.1)\r\n",
      "Requirement already satisfied: MarkupSafe>=2.0 in /usr/local/lib/python3.10/dist-packages (from jinja2->torch>=1.3->escnn) (3.0.2)\r\n",
      "Requirement already satisfied: intel-openmp>=2024 in /usr/local/lib/python3.10/dist-packages (from mkl->numpy->escnn) (2024.2.0)\r\n",
      "Requirement already satisfied: tbb==2022.* in /usr/local/lib/python3.10/dist-packages (from mkl->numpy->escnn) (2022.0.0)\r\n",
      "Requirement already satisfied: tcmlib==1.* in /usr/local/lib/python3.10/dist-packages (from tbb==2022.*->mkl->numpy->escnn) (1.2.0)\r\n",
      "Requirement already satisfied: intel-cmplr-lib-rt in /usr/local/lib/python3.10/dist-packages (from mkl_umath->numpy->escnn) (2024.2.0)\r\n",
      "Requirement already satisfied: charset-normalizer<4,>=2 in /usr/local/lib/python3.10/dist-packages (from requests->lie-learn->escnn) (3.4.1)\r\n",
      "Requirement already satisfied: idna<4,>=2.5 in /usr/local/lib/python3.10/dist-packages (from requests->lie-learn->escnn) (3.10)\r\n",
      "Requirement already satisfied: urllib3<3,>=1.21.1 in /usr/local/lib/python3.10/dist-packages (from requests->lie-learn->escnn) (2.3.0)\r\n",
      "Requirement already satisfied: certifi>=2017.4.17 in /usr/local/lib/python3.10/dist-packages (from requests->lie-learn->escnn) (2025.1.31)\r\n",
      "Requirement already satisfied: intel-cmplr-lib-ur==2024.2.0 in /usr/local/lib/python3.10/dist-packages (from intel-openmp>=2024->mkl->numpy->escnn) (2024.2.0)\r\n",
      "Downloading escnn-1.0.11-py3-none-any.whl (373 kB)\r\n",
      "\u001b[2K   \u001b[90m━━━━━━━━━━━━━━━━━━━━━━━━━━━━━━━━━━━━━━━━\u001b[0m \u001b[32m373.9/373.9 kB\u001b[0m \u001b[31m11.6 MB/s\u001b[0m eta \u001b[36m0:00:00\u001b[0m\r\n",
      "\u001b[?25hDownloading lie_learn-0.0.2-cp310-cp310-manylinux_2_5_x86_64.manylinux1_x86_64.manylinux_2_17_x86_64.manylinux2014_x86_64.whl (16.5 MB)\r\n",
      "\u001b[2K   \u001b[90m━━━━━━━━━━━━━━━━━━━━━━━━━━━━━━━━━━━━━━━━\u001b[0m \u001b[32m16.5/16.5 MB\u001b[0m \u001b[31m86.0 MB/s\u001b[0m eta \u001b[36m0:00:00\u001b[0m\r\n",
      "\u001b[?25hDownloading pymanopt-2.2.1-py3-none-any.whl (71 kB)\r\n",
      "\u001b[2K   \u001b[90m━━━━━━━━━━━━━━━━━━━━━━━━━━━━━━━━━━━━━━━━\u001b[0m \u001b[32m72.0/72.0 kB\u001b[0m \u001b[31m3.9 MB/s\u001b[0m eta \u001b[36m0:00:00\u001b[0m\r\n",
      "\u001b[?25hBuilding wheels for collected packages: py3nj\r\n",
      "  Building wheel for py3nj (pyproject.toml) ... \u001b[?25l\u001b[?25hdone\r\n",
      "  Created wheel for py3nj: filename=py3nj-0.2.1-cp310-cp310-linux_x86_64.whl size=44801 sha256=16599c8ee9224f2eaa476e6188c12f7e6d2755701a6c937fec665aae4829d52f\r\n",
      "  Stored in directory: /root/.cache/pip/wheels/71/e9/70/30a34ed6dbc8b54ce93f25c091be4cf7a24319e27d953a882b\r\n",
      "Successfully built py3nj\r\n",
      "Installing collected packages: pymanopt, py3nj, lie-learn, escnn\r\n",
      "Successfully installed escnn-1.0.11 lie-learn-0.0.2 py3nj-0.2.1 pymanopt-2.2.1\r\n"
     ]
    }
   ],
   "source": [
    "!pip install escnn"
   ]
  },
  {
   "cell_type": "code",
   "execution_count": 2,
   "id": "bd045441",
   "metadata": {
    "execution": {
     "iopub.execute_input": "2025-03-19T14:06:37.089526Z",
     "iopub.status.busy": "2025-03-19T14:06:37.089208Z",
     "iopub.status.idle": "2025-03-19T14:06:57.697584Z",
     "shell.execute_reply": "2025-03-19T14:06:57.696841Z"
    },
    "papermill": {
     "duration": 20.615072,
     "end_time": "2025-03-19T14:06:57.699291",
     "exception": false,
     "start_time": "2025-03-19T14:06:37.084219",
     "status": "completed"
    },
    "tags": []
   },
   "outputs": [],
   "source": [
    "import os\n",
    "import random\n",
    "import numpy as np\n",
    "import torch\n",
    "import torch.nn as nn\n",
    "import torch.optim as optim\n",
    "from torchvision import transforms\n",
    "import escnn\n",
    "from escnn import gspaces\n",
    "from escnn import nn as enn\n",
    "from PIL import Image, ImageOps\n",
    "from skimage.util import random_noise\n",
    "from skimage import exposure\n",
    "from torch.utils.data import Dataset, DataLoader\n",
    "from sklearn.metrics import accuracy_score, precision_score, recall_score, f1_score, jaccard_score"
   ]
  },
  {
   "cell_type": "markdown",
   "id": "4b1c5e12",
   "metadata": {
    "papermill": {
     "duration": 0.004273,
     "end_time": "2025-03-19T14:06:57.708352",
     "exception": false,
     "start_time": "2025-03-19T14:06:57.704079",
     "status": "completed"
    },
    "tags": []
   },
   "source": [
    "`Helper functions`"
   ]
  },
  {
   "cell_type": "code",
   "execution_count": 3,
   "id": "e124cd69",
   "metadata": {
    "execution": {
     "iopub.execute_input": "2025-03-19T14:06:57.718331Z",
     "iopub.status.busy": "2025-03-19T14:06:57.717690Z",
     "iopub.status.idle": "2025-03-19T14:06:57.726745Z",
     "shell.execute_reply": "2025-03-19T14:06:57.725852Z"
    },
    "papermill": {
     "duration": 0.015461,
     "end_time": "2025-03-19T14:06:57.728109",
     "exception": false,
     "start_time": "2025-03-19T14:06:57.712648",
     "status": "completed"
    },
    "tags": []
   },
   "outputs": [],
   "source": [
    "def load_image(image_path, target_size):\n",
    "    image = Image.open(image_path).convert('RGB' if target_size[2] == 3 else 'L')\n",
    "    transform = transforms.Compose([\n",
    "        transforms.Resize(target_size[:2]),\n",
    "    ])\n",
    "    return transform(image)\n",
    "\n",
    "def load_real_data(data_dir, target_size=(256, 256)):\n",
    "    landslide_dir = os.path.join(data_dir, 'landslide')\n",
    "    non_landslide_dir = os.path.join(data_dir, 'non-landslide')\n",
    "\n",
    "    images = []\n",
    "    dems = []\n",
    "    labels = []\n",
    "\n",
    "    def process_image(image_path, dem_path, label):\n",
    "        image = load_image(image_path, target_size + (3,))\n",
    "        dem = load_image(dem_path, target_size + (1,))\n",
    "\n",
    "        images.append(transforms.ToTensor()(image))\n",
    "        dems.append(transforms.ToTensor()(dem))\n",
    "        labels.append(label)\n",
    "\n",
    "    for filename in os.listdir(os.path.join(landslide_dir, 'image')):\n",
    "        if filename.endswith(\".png\"):\n",
    "            image_path = os.path.join(landslide_dir, 'image', filename)\n",
    "            dem_path = os.path.join(landslide_dir, 'dem', filename)\n",
    "            process_image(image_path, dem_path, label=1)\n",
    "\n",
    "    for filename in os.listdir(os.path.join(non_landslide_dir, 'image')):\n",
    "        if filename.endswith(\".png\"):\n",
    "            image_path = os.path.join(non_landslide_dir, 'image', filename)\n",
    "            dem_path = os.path.join(non_landslide_dir, 'dem', filename)\n",
    "            process_image(image_path, dem_path, label=0)\n",
    "\n",
    "    images = torch.stack(images)\n",
    "    dems = torch.stack(dems)\n",
    "    labels = torch.tensor(labels, dtype=torch.float32)\n",
    "\n",
    "    return images, dems, labels"
   ]
  },
  {
   "cell_type": "markdown",
   "id": "deae7cab",
   "metadata": {
    "papermill": {
     "duration": 0.004047,
     "end_time": "2025-03-19T14:06:57.736447",
     "exception": false,
     "start_time": "2025-03-19T14:06:57.732400",
     "status": "completed"
    },
    "tags": []
   },
   "source": [
    "`Network components`"
   ]
  },
  {
   "cell_type": "code",
   "execution_count": 4,
   "id": "3841332d",
   "metadata": {
    "execution": {
     "iopub.execute_input": "2025-03-19T14:06:57.745811Z",
     "iopub.status.busy": "2025-03-19T14:06:57.745513Z",
     "iopub.status.idle": "2025-03-19T14:06:57.757446Z",
     "shell.execute_reply": "2025-03-19T14:06:57.756604Z"
    },
    "papermill": {
     "duration": 0.018172,
     "end_time": "2025-03-19T14:06:57.758762",
     "exception": false,
     "start_time": "2025-03-19T14:06:57.740590",
     "status": "completed"
    },
    "tags": []
   },
   "outputs": [],
   "source": [
    "class P4ConvBlock(enn.EquivariantModule):\n",
    "    def __init__(self, in_type, out_type):\n",
    "        super(P4ConvBlock, self).__init__()\n",
    "        \n",
    "        self.block = enn.SequentialModule(\n",
    "            enn.R2Conv(in_type, out_type, kernel_size=3, padding=1),\n",
    "            enn.InnerBatchNorm(out_type),\n",
    "            enn.ReLU(out_type, inplace=True),\n",
    "            enn.R2Conv(out_type, out_type, kernel_size=3, padding=1),\n",
    "            enn.InnerBatchNorm(out_type),\n",
    "            enn.ReLU(out_type, inplace=True)\n",
    "        )\n",
    "        \n",
    "        self.in_type = in_type\n",
    "        self.out_type = out_type\n",
    "        \n",
    "    def forward(self, x):\n",
    "        return self.block(x)\n",
    "    \n",
    "    def evaluate_output_shape(self, input_shape):\n",
    "        return self.block.evaluate_output_shape(input_shape)\n",
    "\n",
    "class P4EquivariantEncoder(nn.Module):\n",
    "    def __init__(self):\n",
    "        super(P4EquivariantEncoder, self).__init__()\n",
    "        \n",
    "        # Define the symmetry group: P4 = C4 (90-degree rotations) on R2\n",
    "        self.r2_act = gspaces.rot2dOnR2(N=4)\n",
    "        \n",
    "        # Define input types for RGB and DEM\n",
    "        self.rgb_type = enn.FieldType(self.r2_act, [self.r2_act.trivial_repr]*3)  # RGB channels transform trivially\n",
    "        self.dem_type = enn.FieldType(self.r2_act, [self.r2_act.trivial_repr]*1)  # DEM channel transforms trivially\n",
    "        \n",
    "        # Define feature types with appropriate dimensions to match original model\n",
    "        # First layer: RGB (3 -> 16) and DEM (1 -> 8)\n",
    "        # The regular representation of C4 has dimension 4, so we need 4 copies for 16 channels\n",
    "        self.feat_type_rgb = enn.FieldType(self.r2_act, [self.r2_act.regular_repr]*4)  # 4*4=16 channels\n",
    "        self.feat_type_dem = enn.FieldType(self.r2_act, [self.r2_act.regular_repr]*2)  # 2*4=8 channels\n",
    "        \n",
    "        # Combined features after concatenation (16 + 8 = 24 channels, or 6 regular representations)\n",
    "        self.feat_type_combined = enn.FieldType(self.r2_act, [self.r2_act.regular_repr]*6)\n",
    "        \n",
    "        # Define the rest of the feature types\n",
    "        self.feat_type_c2 = enn.FieldType(self.r2_act, [self.r2_act.regular_repr]*8)   # 8*4=32 channels\n",
    "        self.feat_type_c3 = enn.FieldType(self.r2_act, [self.r2_act.regular_repr]*16)  # 16*4=64 channels\n",
    "        self.feat_type_c4 = enn.FieldType(self.r2_act, [self.r2_act.regular_repr]*32)  # 32*4=128 channels\n",
    "        self.feat_type_bn = enn.FieldType(self.r2_act, [self.r2_act.regular_repr]*64)  # 64*4=256 channels\n",
    "        \n",
    "        # Create the network\n",
    "        self.conv1_rgb = P4ConvBlock(self.rgb_type, self.feat_type_rgb)\n",
    "        self.conv1_dem = P4ConvBlock(self.dem_type, self.feat_type_dem)\n",
    "        \n",
    "        # Create a 1x1 convolution to combine RGB and DEM features\n",
    "        self.combine_features = enn.R2Conv(\n",
    "            enn.FieldType(self.r2_act, self.feat_type_rgb.representations + self.feat_type_dem.representations),\n",
    "            self.feat_type_combined,\n",
    "            kernel_size=1\n",
    "        )\n",
    "        \n",
    "        self.conv2 = P4ConvBlock(self.feat_type_combined, self.feat_type_c2)\n",
    "        self.conv3 = P4ConvBlock(self.feat_type_c2, self.feat_type_c3)\n",
    "        self.conv4 = P4ConvBlock(self.feat_type_c3, self.feat_type_c4)\n",
    "        self.bottleneck = P4ConvBlock(self.feat_type_c4, self.feat_type_bn)\n",
    "        \n",
    "        # Global pooling (invariant to transformations)\n",
    "        self.spatial_pool = enn.PointwiseAdaptiveAvgPool(self.feat_type_bn, 1)\n",
    "        self.group_pool = enn.GroupPooling(self.feat_type_bn)\n",
    "        \n",
    "        # Final fully connected layer\n",
    "        # After group pooling, we have invariant features (256 / 4 = 64)\n",
    "        self.fc = nn.Sequential(\n",
    "            nn.Flatten(),\n",
    "            nn.Linear(64, 1),\n",
    "            nn.Sigmoid()\n",
    "        )\n",
    "    \n",
    "    def forward(self, x_rgb, x_dem):\n",
    "        # Wrap inputs as GeometricTensors\n",
    "        x_rgb = enn.GeometricTensor(x_rgb, self.rgb_type)\n",
    "        x_dem = enn.GeometricTensor(x_dem, self.dem_type)\n",
    "        \n",
    "        # Process RGB and DEM separately\n",
    "        c1_rgb = self.conv1_rgb(x_rgb)\n",
    "        c1_dem = self.conv1_dem(x_dem)\n",
    "        \n",
    "        # Concatenate the features\n",
    "        stacked_tensor = torch.cat([c1_rgb.tensor, c1_dem.tensor], dim=1)\n",
    "        stacked_type = enn.FieldType(self.r2_act, c1_rgb.type.representations + c1_dem.type.representations)\n",
    "        stacked_geo = enn.GeometricTensor(stacked_tensor, stacked_type)\n",
    "        \n",
    "        # Apply 1x1 convolution to map to the combined feature type\n",
    "        combined = self.combine_features(stacked_geo)\n",
    "        \n",
    "        # Continue with the remaining layers\n",
    "        c2 = self.conv2(combined)\n",
    "        p2 = enn.PointwiseMaxPool(c2.type, kernel_size=2)(c2)\n",
    "        \n",
    "        c3 = self.conv3(p2)\n",
    "        p3 = enn.PointwiseMaxPool(c3.type, kernel_size=2)(c3)\n",
    "        \n",
    "        c4 = self.conv4(p3)\n",
    "        p4 = enn.PointwiseMaxPool(c4.type, kernel_size=2)(c4)\n",
    "        \n",
    "        bn = self.bottleneck(p4)\n",
    "        \n",
    "        # Global pooling (first spatial, then group)\n",
    "        spatially_pooled = self.spatial_pool(bn)\n",
    "        group_pooled = self.group_pool(spatially_pooled)\n",
    "        \n",
    "        # Pass to the fully connected layer\n",
    "        return self.fc(group_pooled.tensor)"
   ]
  },
  {
   "cell_type": "code",
   "execution_count": 5,
   "id": "9c33b1f1",
   "metadata": {
    "execution": {
     "iopub.execute_input": "2025-03-19T14:06:57.767572Z",
     "iopub.status.busy": "2025-03-19T14:06:57.767367Z",
     "iopub.status.idle": "2025-03-19T14:06:57.770038Z",
     "shell.execute_reply": "2025-03-19T14:06:57.769456Z"
    },
    "papermill": {
     "duration": 0.008472,
     "end_time": "2025-03-19T14:06:57.771246",
     "exception": false,
     "start_time": "2025-03-19T14:06:57.762774",
     "status": "completed"
    },
    "tags": []
   },
   "outputs": [],
   "source": [
    "# from torchinfo import summary\n",
    "\n",
    "# model = Encoder().to(device)\n",
    "# summary(model, input_size=[(1, 3, 256, 256), (1, 1, 256, 256)]) "
   ]
  },
  {
   "cell_type": "code",
   "execution_count": 6,
   "id": "b4f00efb",
   "metadata": {
    "execution": {
     "iopub.execute_input": "2025-03-19T14:06:57.780026Z",
     "iopub.status.busy": "2025-03-19T14:06:57.779820Z",
     "iopub.status.idle": "2025-03-19T14:06:57.842927Z",
     "shell.execute_reply": "2025-03-19T14:06:57.842166Z"
    },
    "papermill": {
     "duration": 0.06891,
     "end_time": "2025-03-19T14:06:57.844197",
     "exception": false,
     "start_time": "2025-03-19T14:06:57.775287",
     "status": "completed"
    },
    "tags": []
   },
   "outputs": [
    {
     "name": "stdout",
     "output_type": "stream",
     "text": [
      "cuda\n"
     ]
    }
   ],
   "source": [
    "device = torch.device('cuda' if torch.cuda.is_available() else 'cpu')\n",
    "print(device)"
   ]
  },
  {
   "cell_type": "code",
   "execution_count": 7,
   "id": "49baf024",
   "metadata": {
    "execution": {
     "iopub.execute_input": "2025-03-19T14:06:57.854408Z",
     "iopub.status.busy": "2025-03-19T14:06:57.854113Z",
     "iopub.status.idle": "2025-03-19T14:07:46.736106Z",
     "shell.execute_reply": "2025-03-19T14:07:46.735151Z"
    },
    "papermill": {
     "duration": 48.889268,
     "end_time": "2025-03-19T14:07:46.738157",
     "exception": false,
     "start_time": "2025-03-19T14:06:57.848889",
     "status": "completed"
    },
    "tags": []
   },
   "outputs": [],
   "source": [
    "data_dir = '/kaggle/input/bijie/Bijie_dataset'\n",
    "images, dems, labels = load_real_data(data_dir, target_size=(256, 256))"
   ]
  },
  {
   "cell_type": "code",
   "execution_count": 8,
   "id": "146305a7",
   "metadata": {
    "execution": {
     "iopub.execute_input": "2025-03-19T14:07:46.747897Z",
     "iopub.status.busy": "2025-03-19T14:07:46.747645Z",
     "iopub.status.idle": "2025-03-19T14:07:46.752770Z",
     "shell.execute_reply": "2025-03-19T14:07:46.752135Z"
    },
    "papermill": {
     "duration": 0.011146,
     "end_time": "2025-03-19T14:07:46.753967",
     "exception": false,
     "start_time": "2025-03-19T14:07:46.742821",
     "status": "completed"
    },
    "tags": []
   },
   "outputs": [
    {
     "data": {
      "text/plain": [
       "2773"
      ]
     },
     "execution_count": 8,
     "metadata": {},
     "output_type": "execute_result"
    }
   ],
   "source": [
    "len(dems)"
   ]
  },
  {
   "cell_type": "code",
   "execution_count": 9,
   "id": "dfa0f9cf",
   "metadata": {
    "execution": {
     "iopub.execute_input": "2025-03-19T14:07:46.763469Z",
     "iopub.status.busy": "2025-03-19T14:07:46.763199Z",
     "iopub.status.idle": "2025-03-19T14:07:47.660269Z",
     "shell.execute_reply": "2025-03-19T14:07:47.659312Z"
    },
    "papermill": {
     "duration": 0.903207,
     "end_time": "2025-03-19T14:07:47.661663",
     "exception": false,
     "start_time": "2025-03-19T14:07:46.758456",
     "status": "completed"
    },
    "tags": []
   },
   "outputs": [
    {
     "name": "stdout",
     "output_type": "stream",
     "text": [
      "torch.Size([2218, 3, 256, 256]) torch.Size([1, 256, 256]) torch.Size([])\n",
      "Training data size: 2218\n",
      "Testing data size: 555\n"
     ]
    }
   ],
   "source": [
    "from sklearn.model_selection import train_test_split\n",
    "\n",
    "X_train_img, X_test_img, X_train_dem, X_test_dem, y_train, y_test = train_test_split(\n",
    "    images, dems, labels, test_size=0.2, random_state=42\n",
    ")\n",
    "\n",
    "print(X_train_img.shape, X_train_dem[0].shape, y_train[0].shape)\n",
    "print(\"Training data size:\", len(X_train_img))\n",
    "print(\"Testing data size:\", len(X_test_img))"
   ]
  },
  {
   "cell_type": "code",
   "execution_count": 10,
   "id": "b2f43240",
   "metadata": {
    "execution": {
     "iopub.execute_input": "2025-03-19T14:07:47.672741Z",
     "iopub.status.busy": "2025-03-19T14:07:47.672495Z",
     "iopub.status.idle": "2025-03-19T14:07:47.677575Z",
     "shell.execute_reply": "2025-03-19T14:07:47.676962Z"
    },
    "papermill": {
     "duration": 0.011247,
     "end_time": "2025-03-19T14:07:47.678684",
     "exception": false,
     "start_time": "2025-03-19T14:07:47.667437",
     "status": "completed"
    },
    "tags": []
   },
   "outputs": [],
   "source": [
    "class CustomDataset(Dataset):\n",
    "    def __init__(self, images, dems, masks):\n",
    "        self.images = images\n",
    "        self.dems = dems\n",
    "        self.masks = masks\n",
    "\n",
    "    def __len__(self):\n",
    "        return len(self.images)\n",
    "\n",
    "    def __getitem__(self, idx):\n",
    "        return {\n",
    "            'image': self.images[idx],\n",
    "            'dem': self.dems[idx],\n",
    "            'label': self.masks[idx]\n",
    "        }\n",
    "\n",
    "train_dataset = CustomDataset(X_train_img, X_train_dem, y_train)\n",
    "val_dataset = CustomDataset(X_test_img, X_test_dem, y_test)\n",
    "\n",
    "train_loader = DataLoader(train_dataset, batch_size=16, shuffle=True)\n",
    "val_loader = DataLoader(val_dataset, batch_size=16, shuffle=False)"
   ]
  },
  {
   "cell_type": "code",
   "execution_count": 11,
   "id": "4b1be9a9",
   "metadata": {
    "execution": {
     "iopub.execute_input": "2025-03-19T14:07:47.687890Z",
     "iopub.status.busy": "2025-03-19T14:07:47.687691Z",
     "iopub.status.idle": "2025-03-19T14:07:49.599293Z",
     "shell.execute_reply": "2025-03-19T14:07:49.598454Z"
    },
    "papermill": {
     "duration": 1.917799,
     "end_time": "2025-03-19T14:07:49.600826",
     "exception": false,
     "start_time": "2025-03-19T14:07:47.683027",
     "status": "completed"
    },
    "tags": []
   },
   "outputs": [],
   "source": [
    "model = P4EquivariantEncoder().to(device)\n",
    "epochs = 200\n",
    "best_val_loss = float('inf')\n",
    "best_model_path = 'best_unet_model.pth'"
   ]
  },
  {
   "cell_type": "code",
   "execution_count": 12,
   "id": "14153f63",
   "metadata": {
    "execution": {
     "iopub.execute_input": "2025-03-19T14:07:49.610655Z",
     "iopub.status.busy": "2025-03-19T14:07:49.610408Z",
     "iopub.status.idle": "2025-03-19T14:07:49.620493Z",
     "shell.execute_reply": "2025-03-19T14:07:49.619698Z"
    },
    "papermill": {
     "duration": 0.016093,
     "end_time": "2025-03-19T14:07:49.621607",
     "exception": false,
     "start_time": "2025-03-19T14:07:49.605514",
     "status": "completed"
    },
    "tags": []
   },
   "outputs": [
    {
     "name": "stdout",
     "output_type": "stream",
     "text": [
      "Total parameters: 197759\n"
     ]
    }
   ],
   "source": [
    "total_params = sum(p.numel() for p in model.parameters())\n",
    "print(f\"Total parameters: {total_params}\")"
   ]
  },
  {
   "cell_type": "code",
   "execution_count": 13,
   "id": "40895eb2",
   "metadata": {
    "execution": {
     "iopub.execute_input": "2025-03-19T14:07:49.630837Z",
     "iopub.status.busy": "2025-03-19T14:07:49.630639Z",
     "iopub.status.idle": "2025-03-19T15:24:46.265308Z",
     "shell.execute_reply": "2025-03-19T15:24:46.264349Z"
    },
    "papermill": {
     "duration": 4616.653263,
     "end_time": "2025-03-19T15:24:46.279229",
     "exception": false,
     "start_time": "2025-03-19T14:07:49.625966",
     "status": "completed"
    },
    "tags": []
   },
   "outputs": [
    {
     "name": "stderr",
     "output_type": "stream",
     "text": [
      "/usr/local/lib/python3.10/dist-packages/torch/optim/lr_scheduler.py:62: UserWarning: The verbose parameter is deprecated. Please use get_last_lr() to access the learning rate.\n",
      "  warnings.warn(\n"
     ]
    },
    {
     "name": "stdout",
     "output_type": "stream",
     "text": [
      "Epoch 1/200, Train Loss: 0.17103432435140337, Val Loss: 0.13089523507016046, Accuracy: 0.8252252252252252, Precision: 0.6878980891719745, Recall: 0.6923076923076923, IoU: 0.526829268292683, F1: 0.6900958466453673\n",
      "Saved best model with val loss: 0.13089523507016046\n",
      "Epoch 2/200, Train Loss: 0.10831466201934026, Val Loss: 0.08284721390477248, Accuracy: 0.8846846846846846, Precision: 0.8770491803278688, Recall: 0.6858974358974359, IoU: 0.6257309941520468, F1: 0.7697841726618705\n",
      "Saved best model with val loss: 0.08284721390477248\n",
      "Epoch 3/200, Train Loss: 0.08265241983232738, Val Loss: 0.10230220194373812, Accuracy: 0.8504504504504504, Precision: 0.9866666666666667, Recall: 0.47435897435897434, IoU: 0.4713375796178344, F1: 0.6406926406926406\n",
      "Epoch 4/200, Train Loss: 0.06196160069097289, Val Loss: 0.05031318539487464, Accuracy: 0.9423423423423424, Precision: 0.9025974025974026, Recall: 0.8910256410256411, IoU: 0.8128654970760234, F1: 0.8967741935483873\n",
      "Saved best model with val loss: 0.05031318539487464\n",
      "Epoch 5/200, Train Loss: 0.056665218723334854, Val Loss: 0.05456580201030842, Accuracy: 0.9279279279279279, Precision: 0.9027777777777778, Recall: 0.8333333333333334, IoU: 0.7647058823529411, F1: 0.8666666666666667\n",
      "Epoch 6/200, Train Loss: 0.051560043933526645, Val Loss: 0.04188125106239957, Accuracy: 0.9477477477477477, Precision: 0.9044585987261147, Recall: 0.9102564102564102, IoU: 0.8304093567251462, F1: 0.9073482428115015\n",
      "Saved best model with val loss: 0.04188125106239957\n",
      "Epoch 7/200, Train Loss: 0.046056887151660036, Val Loss: 0.04517263816004353, Accuracy: 0.9441441441441442, Precision: 0.8787878787878788, Recall: 0.9294871794871795, IoU: 0.8238636363636364, F1: 0.9034267912772586\n",
      "Epoch 8/200, Train Loss: 0.041202127826299596, Val Loss: 0.03948528710752726, Accuracy: 0.9513513513513514, Precision: 0.9006211180124224, Recall: 0.9294871794871795, IoU: 0.8430232558139535, F1: 0.9148264984227129\n",
      "Saved best model with val loss: 0.03948528710752726\n",
      "Epoch 9/200, Train Loss: 0.04032937920293871, Val Loss: 0.047770339576527474, Accuracy: 0.9369369369369369, Precision: 0.9763779527559056, Recall: 0.7948717948717948, IoU: 0.779874213836478, F1: 0.8763250883392226\n",
      "Epoch 10/200, Train Loss: 0.03537497958402893, Val Loss: 0.033781841834674455, Accuracy: 0.9531531531531532, Precision: 0.9166666666666666, Recall: 0.9166666666666666, IoU: 0.8461538461538461, F1: 0.9166666666666666\n",
      "Saved best model with val loss: 0.033781841834674455\n",
      "Epoch 11/200, Train Loss: 0.035143694189199576, Val Loss: 0.0379569113121501, Accuracy: 0.9495495495495495, Precision: 0.9776119402985075, Recall: 0.8397435897435898, IoU: 0.8238993710691824, F1: 0.9034482758620689\n",
      "Epoch 12/200, Train Loss: 0.030414517530869933, Val Loss: 0.036241507521897025, Accuracy: 0.9621621621621622, Precision: 0.9787234042553191, Recall: 0.8846153846153846, IoU: 0.8679245283018868, F1: 0.9292929292929293\n",
      "Epoch 13/200, Train Loss: 0.028351435368284314, Val Loss: 0.0713189607885267, Accuracy: 0.8972972972972973, Precision: 0.7391304347826086, Recall: 0.9807692307692307, IoU: 0.7285714285714285, F1: 0.8429752066115702\n",
      "Epoch 14/200, Train Loss: 0.02836872179818293, Val Loss: 0.04380074122953894, Accuracy: 0.9405405405405406, Precision: 0.8435754189944135, Recall: 0.967948717948718, IoU: 0.8206521739130435, F1: 0.9014925373134328\n",
      "Epoch 15/200, Train Loss: 0.02345112581710539, Val Loss: 0.0340016652630376, Accuracy: 0.9531531531531532, Precision: 0.9391891891891891, Recall: 0.8910256410256411, IoU: 0.8424242424242424, F1: 0.9144736842105263\n",
      "Epoch 16/200, Train Loss: 0.01888483826978896, Val Loss: 0.03363830684018987, Accuracy: 0.9513513513513514, Precision: 0.9006211180124224, Recall: 0.9294871794871795, IoU: 0.8430232558139535, F1: 0.9148264984227129\n",
      "Saved best model with val loss: 0.03363830684018987\n",
      "Epoch 17/200, Train Loss: 0.019756999587692094, Val Loss: 0.06917497892864048, Accuracy: 0.918918918918919, Precision: 0.7875647668393783, Recall: 0.9743589743589743, IoU: 0.7715736040609137, F1: 0.8710601719197707\n",
      "Epoch 18/200, Train Loss: 0.017174640711038473, Val Loss: 0.055812426403697046, Accuracy: 0.9279279279279279, Precision: 0.8020833333333334, Recall: 0.9871794871794872, IoU: 0.7938144329896907, F1: 0.8850574712643677\n",
      "Epoch 19/200, Train Loss: 0.01445668204055208, Val Loss: 0.04003117026960743, Accuracy: 0.9459459459459459, Precision: 0.8579545454545454, Recall: 0.967948717948718, IoU: 0.8342541436464088, F1: 0.9096385542168673\n",
      "Epoch 20/200, Train Loss: 0.013222373383868865, Val Loss: 0.04517825215090332, Accuracy: 0.9315315315315316, Precision: 0.8430232558139535, Recall: 0.9294871794871795, IoU: 0.7923497267759563, F1: 0.8841463414634148\n",
      "Epoch 21/200, Train Loss: 0.013729771181224744, Val Loss: 0.04599501050210425, Accuracy: 0.9351351351351351, Precision: 0.8370786516853933, Recall: 0.9551282051282052, IoU: 0.8054054054054054, F1: 0.8922155688622755\n",
      "Epoch 22/200, Train Loss: 0.011876638974898525, Val Loss: 0.04191271794926641, Accuracy: 0.9441441441441442, Precision: 0.9770992366412213, Recall: 0.8205128205128205, IoU: 0.8050314465408805, F1: 0.8919860627177699\n",
      "Epoch 23/200, Train Loss: 0.007243984337835807, Val Loss: 0.030752503457811792, Accuracy: 0.9567567567567568, Precision: 0.9714285714285714, Recall: 0.8717948717948718, IoU: 0.85, F1: 0.9189189189189189\n",
      "Saved best model with val loss: 0.030752503457811792\n",
      "Epoch 24/200, Train Loss: 0.005906587409855557, Val Loss: 0.029311740661172994, Accuracy: 0.9585585585585585, Precision: 0.9182389937106918, Recall: 0.9358974358974359, IoU: 0.863905325443787, F1: 0.926984126984127\n",
      "Saved best model with val loss: 0.029311740661172994\n",
      "Epoch 25/200, Train Loss: 0.005042985699919685, Val Loss: 0.029157516466719765, Accuracy: 0.9585585585585585, Precision: 0.9290322580645162, Recall: 0.9230769230769231, IoU: 0.8622754491017964, F1: 0.9260450160771705\n",
      "Saved best model with val loss: 0.029157516466719765\n",
      "Epoch 26/200, Train Loss: 0.004500148443629958, Val Loss: 0.027838700498354487, Accuracy: 0.963963963963964, Precision: 0.9415584415584416, Recall: 0.9294871794871795, IoU: 0.8787878787878788, F1: 0.9354838709677419\n",
      "Saved best model with val loss: 0.027838700498354487\n",
      "Epoch 27/200, Train Loss: 0.005387189398088791, Val Loss: 0.03529619646059083, Accuracy: 0.9585585585585585, Precision: 0.893491124260355, Recall: 0.967948717948718, IoU: 0.867816091954023, F1: 0.9292307692307692\n",
      "Epoch 28/200, Train Loss: 0.007251789641008891, Val Loss: 0.02553420739048826, Accuracy: 0.963963963963964, Precision: 0.9415584415584416, Recall: 0.9294871794871795, IoU: 0.8787878787878788, F1: 0.9354838709677419\n",
      "Saved best model with val loss: 0.02553420739048826\n",
      "Epoch 29/200, Train Loss: 0.0033190934551358825, Val Loss: 0.027879339913488364, Accuracy: 0.963963963963964, Precision: 0.9657534246575342, Recall: 0.9038461538461539, IoU: 0.8757763975155279, F1: 0.9337748344370861\n",
      "Epoch 30/200, Train Loss: 0.0034244406829169773, Val Loss: 0.025491534940166666, Accuracy: 0.963963963963964, Precision: 0.9415584415584416, Recall: 0.9294871794871795, IoU: 0.8787878787878788, F1: 0.9354838709677419\n",
      "Saved best model with val loss: 0.025491534940166666\n",
      "Epoch 31/200, Train Loss: 0.004016122883271067, Val Loss: 0.0359138125528781, Accuracy: 0.9495495495495495, Precision: 0.9705882352941176, Recall: 0.8461538461538461, IoU: 0.825, F1: 0.9041095890410958\n",
      "Epoch 32/200, Train Loss: 0.0045775270863087966, Val Loss: 0.038721150203075795, Accuracy: 0.9423423423423424, Precision: 0.8444444444444444, Recall: 0.9743589743589743, IoU: 0.8260869565217391, F1: 0.9047619047619048\n",
      "Epoch 33/200, Train Loss: 0.0026069073316890524, Val Loss: 0.025656038950546644, Accuracy: 0.9657657657657658, Precision: 0.9254658385093167, Recall: 0.9551282051282052, IoU: 0.8869047619047619, F1: 0.9400630914826499\n",
      "Epoch 34/200, Train Loss: 0.002359619278191897, Val Loss: 0.04172222485347967, Accuracy: 0.9423423423423424, Precision: 1.0, Recall: 0.7948717948717948, IoU: 0.7948717948717948, F1: 0.8857142857142858\n",
      "Epoch 35/200, Train Loss: 0.0011433853600066096, Val Loss: 0.026717930728461528, Accuracy: 0.9675675675675676, Precision: 0.9859154929577465, Recall: 0.8974358974358975, IoU: 0.8860759493670886, F1: 0.9395973154362417\n",
      "Epoch 36/200, Train Loss: 0.0011959167488790666, Val Loss: 0.02982246507641061, Accuracy: 0.9603603603603603, Precision: 0.958904109589041, Recall: 0.8974358974358975, IoU: 0.8641975308641975, F1: 0.9271523178807948\n",
      "Epoch 37/200, Train Loss: 0.0017645311800413555, Val Loss: 0.028354915284684725, Accuracy: 0.9603603603603603, Precision: 0.9240506329113924, Recall: 0.9358974358974359, IoU: 0.8690476190476191, F1: 0.9299363057324842\n",
      "Epoch 38/200, Train Loss: 0.0017531899229914205, Val Loss: 0.026402490744034626, Accuracy: 0.9675675675675676, Precision: 0.9367088607594937, Recall: 0.9487179487179487, IoU: 0.891566265060241, F1: 0.9426751592356688\n",
      "Epoch 39/200, Train Loss: 0.0009421244503559294, Val Loss: 0.026601734826441056, Accuracy: 0.9657657657657658, Precision: 0.9308176100628931, Recall: 0.9487179487179487, IoU: 0.8862275449101796, F1: 0.9396825396825397\n",
      "Epoch 40/200, Train Loss: 0.0005691378100957029, Val Loss: 0.031956968541115724, Accuracy: 0.9585585585585585, Precision: 0.9716312056737588, Recall: 0.8782051282051282, IoU: 0.85625, F1: 0.9225589225589226\n",
      "Epoch 41/200, Train Loss: 0.0010972709047341956, Val Loss: 0.025296797624988748, Accuracy: 0.9675675675675676, Precision: 0.93125, Recall: 0.9551282051282052, IoU: 0.8922155688622755, F1: 0.9430379746835443\n",
      "Saved best model with val loss: 0.025296797624988748\n",
      "Epoch 42/200, Train Loss: 0.0005281184202359203, Val Loss: 0.026300336971845743, Accuracy: 0.963963963963964, Precision: 0.925, Recall: 0.9487179487179487, IoU: 0.8809523809523809, F1: 0.9367088607594937\n",
      "Epoch 43/200, Train Loss: 0.0009857107348161269, Val Loss: 0.025307035807886027, Accuracy: 0.9693693693693693, Precision: 0.954248366013072, Recall: 0.9358974358974359, IoU: 0.8957055214723927, F1: 0.9449838187702266\n",
      "Epoch 44/200, Train Loss: 0.0009094153653739655, Val Loss: 0.026165129475079343, Accuracy: 0.972972972972973, Precision: 0.9795918367346939, Recall: 0.9230769230769231, IoU: 0.9056603773584906, F1: 0.9504950495049506\n",
      "Epoch 45/200, Train Loss: 0.0006753002611888097, Val Loss: 0.027866920586841714, Accuracy: 0.9657657657657658, Precision: 0.9659863945578231, Recall: 0.9102564102564102, IoU: 0.8819875776397516, F1: 0.9372937293729372\n",
      "Epoch 46/200, Train Loss: 0.0011615296435796172, Val Loss: 0.030827983658361646, Accuracy: 0.9603603603603603, Precision: 0.9135802469135802, Recall: 0.9487179487179487, IoU: 0.8705882352941177, F1: 0.9308176100628931\n",
      "Epoch 47/200, Train Loss: 0.001184247962663635, Val Loss: 0.026614848216662983, Accuracy: 0.9675675675675676, Precision: 0.9539473684210527, Recall: 0.9294871794871795, IoU: 0.8895705521472392, F1: 0.9415584415584416\n",
      "Epoch 48/200, Train Loss: 0.0005444935360834842, Val Loss: 0.024709440843019237, Accuracy: 0.9657657657657658, Precision: 0.9536423841059603, Recall: 0.9230769230769231, IoU: 0.8834355828220859, F1: 0.9381107491856678\n",
      "Saved best model with val loss: 0.024709440843019237\n",
      "Epoch 49/200, Train Loss: 0.0006042908092063731, Val Loss: 0.023467383659278442, Accuracy: 0.9693693693693693, Precision: 0.9426751592356688, Recall: 0.9487179487179487, IoU: 0.896969696969697, F1: 0.9456869009584664\n",
      "Saved best model with val loss: 0.023467383659278442\n",
      "Epoch 50/200, Train Loss: 0.0006624208952010992, Val Loss: 0.026385990307816038, Accuracy: 0.9693693693693693, Precision: 0.9602649006622517, Recall: 0.9294871794871795, IoU: 0.8950617283950617, F1: 0.9446254071661239\n",
      "Epoch 51/200, Train Loss: 0.0008372025650525181, Val Loss: 0.025448384177122665, Accuracy: 0.9675675675675676, Precision: 0.9539473684210527, Recall: 0.9294871794871795, IoU: 0.8895705521472392, F1: 0.9415584415584416\n",
      "Epoch 52/200, Train Loss: 0.00042151457888139177, Val Loss: 0.0275671346927993, Accuracy: 0.9657657657657658, Precision: 0.9254658385093167, Recall: 0.9551282051282052, IoU: 0.8869047619047619, F1: 0.9400630914826499\n",
      "Epoch 53/200, Train Loss: 0.0007798890334578304, Val Loss: 0.027386773859948983, Accuracy: 0.9621621621621622, Precision: 0.9192546583850931, Recall: 0.9487179487179487, IoU: 0.8757396449704142, F1: 0.9337539432176656\n",
      "Epoch 54/200, Train Loss: 0.0005195438167441176, Val Loss: 0.027598147322922678, Accuracy: 0.963963963963964, Precision: 0.9358974358974359, Recall: 0.9358974358974359, IoU: 0.8795180722891566, F1: 0.9358974358974359\n",
      "Epoch 55/200, Train Loss: 0.00039281204322283593, Val Loss: 0.028074772782357676, Accuracy: 0.963963963963964, Precision: 0.9197530864197531, Recall: 0.9551282051282052, IoU: 0.8816568047337278, F1: 0.9371069182389936\n",
      "Epoch 56/200, Train Loss: 0.00027375111751438546, Val Loss: 0.02443839583429508, Accuracy: 0.9693693693693693, Precision: 0.9483870967741935, Recall: 0.9423076923076923, IoU: 0.8963414634146342, F1: 0.9453376205787781\n",
      "Epoch 57/200, Train Loss: 0.00042652812332150244, Val Loss: 0.025599533445867045, Accuracy: 0.9747747747747748, Precision: 0.9797297297297297, Recall: 0.9294871794871795, IoU: 0.9119496855345912, F1: 0.9539473684210527\n",
      "Epoch 58/200, Train Loss: 0.00027708596994245794, Val Loss: 0.024485098865781246, Accuracy: 0.9693693693693693, Precision: 0.9483870967741935, Recall: 0.9423076923076923, IoU: 0.8963414634146342, F1: 0.9453376205787781\n",
      "Epoch 59/200, Train Loss: 0.0004871173471479556, Val Loss: 0.027285303714286002, Accuracy: 0.963963963963964, Precision: 0.930379746835443, Recall: 0.9423076923076923, IoU: 0.8802395209580839, F1: 0.9363057324840764\n",
      "Epoch 60/200, Train Loss: 0.000560921951379484, Val Loss: 0.026600232036850815, Accuracy: 0.9693693693693693, Precision: 0.9664429530201343, Recall: 0.9230769230769231, IoU: 0.8944099378881988, F1: 0.9442622950819671\n",
      "Epoch 61/200, Train Loss: 0.00045513042047407666, Val Loss: 0.026367865258362145, Accuracy: 0.9621621621621622, Precision: 0.9354838709677419, Recall: 0.9294871794871795, IoU: 0.8734939759036144, F1: 0.932475884244373\n",
      "Epoch 62/200, Train Loss: 0.0003237291737951905, Val Loss: 0.027167564200603272, Accuracy: 0.9657657657657658, Precision: 0.9202453987730062, Recall: 0.9615384615384616, IoU: 0.8875739644970414, F1: 0.9404388714733541\n",
      "Epoch 63/200, Train Loss: 0.00038564484553036706, Val Loss: 0.026457982181870777, Accuracy: 0.963963963963964, Precision: 0.9197530864197531, Recall: 0.9551282051282052, IoU: 0.8816568047337278, F1: 0.9371069182389936\n",
      "Epoch 64/200, Train Loss: 0.00022419475078958967, Val Loss: 0.025406091292721353, Accuracy: 0.9657657657657658, Precision: 0.9363057324840764, Recall: 0.9423076923076923, IoU: 0.8855421686746988, F1: 0.939297124600639\n",
      "Epoch 65/200, Train Loss: 0.00042667518953081693, Val Loss: 0.025429622098454275, Accuracy: 0.9657657657657658, Precision: 0.9363057324840764, Recall: 0.9423076923076923, IoU: 0.8855421686746988, F1: 0.939297124600639\n",
      "Epoch 66/200, Train Loss: 0.00023835687261125976, Val Loss: 0.025760738607745484, Accuracy: 0.9693693693693693, Precision: 0.9371069182389937, Recall: 0.9551282051282052, IoU: 0.8975903614457831, F1: 0.946031746031746\n",
      "Epoch 67/200, Train Loss: 0.00037120161702084174, Val Loss: 0.02682711770674879, Accuracy: 0.9657657657657658, Precision: 0.9202453987730062, Recall: 0.9615384615384616, IoU: 0.8875739644970414, F1: 0.9404388714733541\n",
      "Epoch 68/200, Train Loss: 0.00025385043116382395, Val Loss: 0.02494162620943306, Accuracy: 0.9657657657657658, Precision: 0.9477124183006536, Recall: 0.9294871794871795, IoU: 0.8841463414634146, F1: 0.9385113268608415\n",
      "Epoch 69/200, Train Loss: 0.00032041548517305836, Val Loss: 0.028554203535895793, Accuracy: 0.9621621621621622, Precision: 0.9090909090909091, Recall: 0.9615384615384616, IoU: 0.8771929824561403, F1: 0.9345794392523366\n",
      "Epoch 70/200, Train Loss: 0.00017730046380106843, Val Loss: 0.024837470828788354, Accuracy: 0.9621621621621622, Precision: 0.9245283018867925, Recall: 0.9423076923076923, IoU: 0.875, F1: 0.9333333333333333\n",
      "Epoch 71/200, Train Loss: 0.00024384718420956134, Val Loss: 0.024901924220778582, Accuracy: 0.9675675675675676, Precision: 0.9367088607594937, Recall: 0.9487179487179487, IoU: 0.891566265060241, F1: 0.9426751592356688\n",
      "Epoch 72/200, Train Loss: 0.0001882056279725521, Val Loss: 0.026038247643737123, Accuracy: 0.9657657657657658, Precision: 0.9363057324840764, Recall: 0.9423076923076923, IoU: 0.8855421686746988, F1: 0.939297124600639\n",
      "Epoch 73/200, Train Loss: 0.0003258576894596909, Val Loss: 0.023805660210616354, Accuracy: 0.9657657657657658, Precision: 0.9419354838709677, Recall: 0.9358974358974359, IoU: 0.8848484848484849, F1: 0.9389067524115755\n",
      "Epoch 74/200, Train Loss: 0.00021388649798223506, Val Loss: 0.02473416437153771, Accuracy: 0.963963963963964, Precision: 0.9473684210526315, Recall: 0.9230769230769231, IoU: 0.8780487804878049, F1: 0.935064935064935\n",
      "Epoch 75/200, Train Loss: 0.00022824217940527522, Val Loss: 0.02898058848887948, Accuracy: 0.9603603603603603, Precision: 0.9036144578313253, Recall: 0.9615384615384616, IoU: 0.872093023255814, F1: 0.9316770186335404\n",
      "Epoch 76/200, Train Loss: 0.0002456400391879764, Val Loss: 0.02421243791302134, Accuracy: 0.9675675675675676, Precision: 0.948051948051948, Recall: 0.9358974358974359, IoU: 0.8902439024390244, F1: 0.9419354838709677\n",
      "Epoch 77/200, Train Loss: 0.00022452604161372233, Val Loss: 0.024250477698764632, Accuracy: 0.9675675675675676, Precision: 0.93125, Recall: 0.9551282051282052, IoU: 0.8922155688622755, F1: 0.9430379746835443\n",
      "Epoch 78/200, Train Loss: 0.00045299125145565537, Val Loss: 0.024781303232469198, Accuracy: 0.9675675675675676, Precision: 0.9367088607594937, Recall: 0.9487179487179487, IoU: 0.891566265060241, F1: 0.9426751592356688\n",
      "Epoch 79/200, Train Loss: 0.00018827047572669224, Val Loss: 0.024541623663805825, Accuracy: 0.9675675675675676, Precision: 0.948051948051948, Recall: 0.9358974358974359, IoU: 0.8902439024390244, F1: 0.9419354838709677\n",
      "Epoch 80/200, Train Loss: 0.0003019890795873161, Val Loss: 0.02538595822323779, Accuracy: 0.9675675675675676, Precision: 0.9367088607594937, Recall: 0.9487179487179487, IoU: 0.891566265060241, F1: 0.9426751592356688\n",
      "Epoch 81/200, Train Loss: 0.0001975498146506482, Val Loss: 0.024060008071994942, Accuracy: 0.9693693693693693, Precision: 0.9602649006622517, Recall: 0.9294871794871795, IoU: 0.8950617283950617, F1: 0.9446254071661239\n",
      "Epoch 82/200, Train Loss: 0.0003519685748850331, Val Loss: 0.024184955528887386, Accuracy: 0.9693693693693693, Precision: 0.954248366013072, Recall: 0.9358974358974359, IoU: 0.8957055214723927, F1: 0.9449838187702266\n",
      "Epoch 83/200, Train Loss: 0.0008927502574597187, Val Loss: 0.024331397663003632, Accuracy: 0.9675675675675676, Precision: 0.9367088607594937, Recall: 0.9487179487179487, IoU: 0.891566265060241, F1: 0.9426751592356688\n",
      "Epoch 84/200, Train Loss: 0.0003644651788448323, Val Loss: 0.02428119769236738, Accuracy: 0.9675675675675676, Precision: 0.9367088607594937, Recall: 0.9487179487179487, IoU: 0.891566265060241, F1: 0.9426751592356688\n",
      "Epoch 85/200, Train Loss: 0.0002280734991214401, Val Loss: 0.025020662888917806, Accuracy: 0.9675675675675676, Precision: 0.93125, Recall: 0.9551282051282052, IoU: 0.8922155688622755, F1: 0.9430379746835443\n",
      "Epoch 86/200, Train Loss: 0.0003499716660548297, Val Loss: 0.024903236898327512, Accuracy: 0.9711711711711711, Precision: 0.9666666666666667, Recall: 0.9294871794871795, IoU: 0.9006211180124224, F1: 0.9477124183006537\n",
      "Epoch 87/200, Train Loss: 0.000372390008343252, Val Loss: 0.024211642730681757, Accuracy: 0.9675675675675676, Precision: 0.9423076923076923, Recall: 0.9423076923076923, IoU: 0.8909090909090909, F1: 0.9423076923076923\n",
      "Epoch 88/200, Train Loss: 0.0002343385121238655, Val Loss: 0.024869187668082306, Accuracy: 0.963963963963964, Precision: 0.9197530864197531, Recall: 0.9551282051282052, IoU: 0.8816568047337278, F1: 0.9371069182389936\n",
      "Epoch 89/200, Train Loss: 0.0002121003691915163, Val Loss: 0.02396497701993212, Accuracy: 0.9675675675675676, Precision: 0.9423076923076923, Recall: 0.9423076923076923, IoU: 0.8909090909090909, F1: 0.9423076923076923\n",
      "Epoch 90/200, Train Loss: 0.0003043480490848308, Val Loss: 0.024127097661507182, Accuracy: 0.9657657657657658, Precision: 0.9477124183006536, Recall: 0.9294871794871795, IoU: 0.8841463414634146, F1: 0.9385113268608415\n",
      "Epoch 91/200, Train Loss: 0.00020742912254378005, Val Loss: 0.024468357448599168, Accuracy: 0.9711711711711711, Precision: 0.9430379746835443, Recall: 0.9551282051282052, IoU: 0.9030303030303031, F1: 0.9490445859872612\n",
      "Epoch 92/200, Train Loss: 0.00016404667169452218, Val Loss: 0.024269039313159217, Accuracy: 0.9657657657657658, Precision: 0.9308176100628931, Recall: 0.9487179487179487, IoU: 0.8862275449101796, F1: 0.9396825396825397\n",
      "Epoch 93/200, Train Loss: 0.0002263169390888173, Val Loss: 0.025428272574208675, Accuracy: 0.9675675675675676, Precision: 0.93125, Recall: 0.9551282051282052, IoU: 0.8922155688622755, F1: 0.9430379746835443\n",
      "Epoch 94/200, Train Loss: 0.0002899830525319944, Val Loss: 0.023986436974623108, Accuracy: 0.972972972972973, Precision: 0.9731543624161074, Recall: 0.9294871794871795, IoU: 0.90625, F1: 0.9508196721311476\n",
      "Epoch 95/200, Train Loss: 0.00022454381115435582, Val Loss: 0.02448567866252103, Accuracy: 0.9711711711711711, Precision: 0.9430379746835443, Recall: 0.9551282051282052, IoU: 0.9030303030303031, F1: 0.9490445859872612\n",
      "Epoch 96/200, Train Loss: 0.00020217952038960608, Val Loss: 0.02524852065419379, Accuracy: 0.9675675675675676, Precision: 0.9259259259259259, Recall: 0.9615384615384616, IoU: 0.8928571428571429, F1: 0.9433962264150944\n",
      "Epoch 97/200, Train Loss: 0.00020956117948948004, Val Loss: 0.02591805269974949, Accuracy: 0.9675675675675676, Precision: 0.9259259259259259, Recall: 0.9615384615384616, IoU: 0.8928571428571429, F1: 0.9433962264150944\n",
      "Epoch 98/200, Train Loss: 0.00017869454045009117, Val Loss: 0.024179687506485997, Accuracy: 0.9675675675675676, Precision: 0.9539473684210527, Recall: 0.9294871794871795, IoU: 0.8895705521472392, F1: 0.9415584415584416\n",
      "Epoch 99/200, Train Loss: 0.00022673461092826262, Val Loss: 0.02418665487119662, Accuracy: 0.9657657657657658, Precision: 0.9363057324840764, Recall: 0.9423076923076923, IoU: 0.8855421686746988, F1: 0.939297124600639\n",
      "Epoch 100/200, Train Loss: 0.00028456185190335294, Val Loss: 0.024681415664547655, Accuracy: 0.963963963963964, Precision: 0.925, Recall: 0.9487179487179487, IoU: 0.8809523809523809, F1: 0.9367088607594937\n",
      "Epoch 101/200, Train Loss: 0.00027860433573446145, Val Loss: 0.024135821756707237, Accuracy: 0.9675675675675676, Precision: 0.9423076923076923, Recall: 0.9423076923076923, IoU: 0.8909090909090909, F1: 0.9423076923076923\n",
      "Epoch 102/200, Train Loss: 0.0003826540600156274, Val Loss: 0.02335557389014866, Accuracy: 0.9711711711711711, Precision: 0.9430379746835443, Recall: 0.9551282051282052, IoU: 0.9030303030303031, F1: 0.9490445859872612\n",
      "Saved best model with val loss: 0.02335557389014866\n",
      "Epoch 103/200, Train Loss: 0.00028633302160166403, Val Loss: 0.023918995791713575, Accuracy: 0.9693693693693693, Precision: 0.9371069182389937, Recall: 0.9551282051282052, IoU: 0.8975903614457831, F1: 0.946031746031746\n",
      "Epoch 104/200, Train Loss: 0.00016735384010906063, Val Loss: 0.027116145200229116, Accuracy: 0.963963963963964, Precision: 0.9197530864197531, Recall: 0.9551282051282052, IoU: 0.8816568047337278, F1: 0.9371069182389936\n",
      "Epoch 105/200, Train Loss: 0.0002832028215923058, Val Loss: 0.02427018070801361, Accuracy: 0.9675675675675676, Precision: 0.9367088607594937, Recall: 0.9487179487179487, IoU: 0.891566265060241, F1: 0.9426751592356688\n",
      "Epoch 106/200, Train Loss: 0.00024475518731630454, Val Loss: 0.024381911193735766, Accuracy: 0.9693693693693693, Precision: 0.954248366013072, Recall: 0.9358974358974359, IoU: 0.8957055214723927, F1: 0.9449838187702266\n",
      "Epoch 107/200, Train Loss: 0.0002112914283221183, Val Loss: 0.02517375835076174, Accuracy: 0.9657657657657658, Precision: 0.9308176100628931, Recall: 0.9487179487179487, IoU: 0.8862275449101796, F1: 0.9396825396825397\n",
      "Epoch 108/200, Train Loss: 0.00029942899720690746, Val Loss: 0.024016288084177568, Accuracy: 0.9675675675675676, Precision: 0.9423076923076923, Recall: 0.9423076923076923, IoU: 0.8909090909090909, F1: 0.9423076923076923\n",
      "Epoch 109/200, Train Loss: 0.00021279846611878711, Val Loss: 0.02422204581837702, Accuracy: 0.9693693693693693, Precision: 0.9483870967741935, Recall: 0.9423076923076923, IoU: 0.8963414634146342, F1: 0.9453376205787781\n",
      "Epoch 110/200, Train Loss: 0.00020703168058926102, Val Loss: 0.024572792996851993, Accuracy: 0.9675675675675676, Precision: 0.93125, Recall: 0.9551282051282052, IoU: 0.8922155688622755, F1: 0.9430379746835443\n",
      "Epoch 111/200, Train Loss: 0.0002018569425607036, Val Loss: 0.025018737046048047, Accuracy: 0.9711711711711711, Precision: 0.972972972972973, Recall: 0.9230769230769231, IoU: 0.9, F1: 0.9473684210526315\n",
      "Epoch 112/200, Train Loss: 0.00021902434707253828, Val Loss: 0.02518225453677587, Accuracy: 0.9657657657657658, Precision: 0.9254658385093167, Recall: 0.9551282051282052, IoU: 0.8869047619047619, F1: 0.9400630914826499\n",
      "Epoch 113/200, Train Loss: 0.00023956804870617194, Val Loss: 0.02493096289233238, Accuracy: 0.9657657657657658, Precision: 0.9308176100628931, Recall: 0.9487179487179487, IoU: 0.8862275449101796, F1: 0.9396825396825397\n",
      "Epoch 114/200, Train Loss: 0.0001931162563362855, Val Loss: 0.02559012052162351, Accuracy: 0.9693693693693693, Precision: 0.9316770186335404, Recall: 0.9615384615384616, IoU: 0.8982035928143712, F1: 0.9463722397476341\n",
      "Epoch 115/200, Train Loss: 0.00015028824491833385, Val Loss: 0.02421626929426566, Accuracy: 0.9657657657657658, Precision: 0.9419354838709677, Recall: 0.9358974358974359, IoU: 0.8848484848484849, F1: 0.9389067524115755\n",
      "Epoch 116/200, Train Loss: 0.00016239477420856393, Val Loss: 0.024276537780367237, Accuracy: 0.9657657657657658, Precision: 0.9308176100628931, Recall: 0.9487179487179487, IoU: 0.8862275449101796, F1: 0.9396825396825397\n",
      "Epoch 117/200, Train Loss: 0.0002845128818656206, Val Loss: 0.02579705819495887, Accuracy: 0.9675675675675676, Precision: 0.9259259259259259, Recall: 0.9615384615384616, IoU: 0.8928571428571429, F1: 0.9433962264150944\n",
      "Epoch 118/200, Train Loss: 0.0002904065343552751, Val Loss: 0.025191855247664666, Accuracy: 0.9657657657657658, Precision: 0.9254658385093167, Recall: 0.9551282051282052, IoU: 0.8869047619047619, F1: 0.9400630914826499\n",
      "Epoch 119/200, Train Loss: 0.0002441014475923223, Val Loss: 0.024247087788535283, Accuracy: 0.9693693693693693, Precision: 0.9602649006622517, Recall: 0.9294871794871795, IoU: 0.8950617283950617, F1: 0.9446254071661239\n",
      "Epoch 120/200, Train Loss: 0.00033168112315461456, Val Loss: 0.026444400973351937, Accuracy: 0.9675675675675676, Precision: 0.9259259259259259, Recall: 0.9615384615384616, IoU: 0.8928571428571429, F1: 0.9433962264150944\n",
      "Epoch 121/200, Train Loss: 0.00018337645238723047, Val Loss: 0.024498166826586905, Accuracy: 0.9711711711711711, Precision: 0.9666666666666667, Recall: 0.9294871794871795, IoU: 0.9006211180124224, F1: 0.9477124183006537\n",
      "Epoch 122/200, Train Loss: 0.00020603797068413364, Val Loss: 0.02432570490886324, Accuracy: 0.9693693693693693, Precision: 0.9483870967741935, Recall: 0.9423076923076923, IoU: 0.8963414634146342, F1: 0.9453376205787781\n",
      "Epoch 123/200, Train Loss: 0.00012271832346571194, Val Loss: 0.02429898056185006, Accuracy: 0.9675675675675676, Precision: 0.9423076923076923, Recall: 0.9423076923076923, IoU: 0.8909090909090909, F1: 0.9423076923076923\n",
      "Epoch 124/200, Train Loss: 0.000340712775897314, Val Loss: 0.024369007125746325, Accuracy: 0.9675675675675676, Precision: 0.9367088607594937, Recall: 0.9487179487179487, IoU: 0.891566265060241, F1: 0.9426751592356688\n",
      "Epoch 125/200, Train Loss: 0.00013388252335376204, Val Loss: 0.025506228608927425, Accuracy: 0.963963963963964, Precision: 0.925, Recall: 0.9487179487179487, IoU: 0.8809523809523809, F1: 0.9367088607594937\n",
      "Epoch 126/200, Train Loss: 0.00029359359197880894, Val Loss: 0.024022715388231777, Accuracy: 0.9657657657657658, Precision: 0.9308176100628931, Recall: 0.9487179487179487, IoU: 0.8862275449101796, F1: 0.9396825396825397\n",
      "Epoch 127/200, Train Loss: 0.00020883850710096529, Val Loss: 0.02440487858090949, Accuracy: 0.9657657657657658, Precision: 0.9308176100628931, Recall: 0.9487179487179487, IoU: 0.8862275449101796, F1: 0.9396825396825397\n",
      "Epoch 128/200, Train Loss: 0.00028009553332319995, Val Loss: 0.02392796867976098, Accuracy: 0.9657657657657658, Precision: 0.9363057324840764, Recall: 0.9423076923076923, IoU: 0.8855421686746988, F1: 0.939297124600639\n",
      "Epoch 129/200, Train Loss: 0.00042515519267293477, Val Loss: 0.024460359277769125, Accuracy: 0.9693693693693693, Precision: 0.9371069182389937, Recall: 0.9551282051282052, IoU: 0.8975903614457831, F1: 0.946031746031746\n",
      "Epoch 130/200, Train Loss: 0.00041814523274951555, Val Loss: 0.024726726865212965, Accuracy: 0.9657657657657658, Precision: 0.9308176100628931, Recall: 0.9487179487179487, IoU: 0.8862275449101796, F1: 0.9396825396825397\n",
      "Epoch 131/200, Train Loss: 0.0003289098540564554, Val Loss: 0.02504358554412777, Accuracy: 0.9675675675675676, Precision: 0.93125, Recall: 0.9551282051282052, IoU: 0.8922155688622755, F1: 0.9430379746835443\n",
      "Epoch 132/200, Train Loss: 0.0001823472886479708, Val Loss: 0.02468557821952605, Accuracy: 0.9657657657657658, Precision: 0.9308176100628931, Recall: 0.9487179487179487, IoU: 0.8862275449101796, F1: 0.9396825396825397\n",
      "Epoch 133/200, Train Loss: 0.00021526979817575685, Val Loss: 0.026325261355045117, Accuracy: 0.9675675675675676, Precision: 0.9259259259259259, Recall: 0.9615384615384616, IoU: 0.8928571428571429, F1: 0.9433962264150944\n",
      "Epoch 134/200, Train Loss: 0.00033854851521479215, Val Loss: 0.024604313119613964, Accuracy: 0.972972972972973, Precision: 0.9731543624161074, Recall: 0.9294871794871795, IoU: 0.90625, F1: 0.9508196721311476\n",
      "Epoch 135/200, Train Loss: 0.0001808214021919333, Val Loss: 0.0242463005665091, Accuracy: 0.9693693693693693, Precision: 0.9371069182389937, Recall: 0.9551282051282052, IoU: 0.8975903614457831, F1: 0.946031746031746\n",
      "Epoch 136/200, Train Loss: 0.00015896289315939528, Val Loss: 0.02535429448762443, Accuracy: 0.9675675675675676, Precision: 0.93125, Recall: 0.9551282051282052, IoU: 0.8922155688622755, F1: 0.9430379746835443\n",
      "Epoch 137/200, Train Loss: 0.0003002606225344862, Val Loss: 0.024486744468699077, Accuracy: 0.963963963963964, Precision: 0.930379746835443, Recall: 0.9423076923076923, IoU: 0.8802395209580839, F1: 0.9363057324840764\n",
      "Epoch 138/200, Train Loss: 0.00030594324241176127, Val Loss: 0.023958417220273986, Accuracy: 0.9693693693693693, Precision: 0.9426751592356688, Recall: 0.9487179487179487, IoU: 0.896969696969697, F1: 0.9456869009584664\n",
      "Epoch 139/200, Train Loss: 0.00020641005215098278, Val Loss: 0.025472086263887053, Accuracy: 0.9657657657657658, Precision: 0.9254658385093167, Recall: 0.9551282051282052, IoU: 0.8869047619047619, F1: 0.9400630914826499\n",
      "Epoch 140/200, Train Loss: 0.0002925811031313348, Val Loss: 0.02398911680211313, Accuracy: 0.9693693693693693, Precision: 0.9483870967741935, Recall: 0.9423076923076923, IoU: 0.8963414634146342, F1: 0.9453376205787781\n",
      "Epoch 141/200, Train Loss: 0.00015996609808451912, Val Loss: 0.024344725971708874, Accuracy: 0.9675675675675676, Precision: 0.9423076923076923, Recall: 0.9423076923076923, IoU: 0.8909090909090909, F1: 0.9423076923076923\n",
      "Epoch 142/200, Train Loss: 0.0003719579191815258, Val Loss: 0.023947244248951654, Accuracy: 0.9675675675675676, Precision: 0.9367088607594937, Recall: 0.9487179487179487, IoU: 0.891566265060241, F1: 0.9426751592356688\n",
      "Epoch 143/200, Train Loss: 0.00022693480359554062, Val Loss: 0.027587963693076745, Accuracy: 0.963963963963964, Precision: 0.9146341463414634, Recall: 0.9615384615384616, IoU: 0.8823529411764706, F1: 0.9375000000000001\n",
      "Epoch 144/200, Train Loss: 0.0005517032720470904, Val Loss: 0.024108045169850812, Accuracy: 0.9657657657657658, Precision: 0.9308176100628931, Recall: 0.9487179487179487, IoU: 0.8862275449101796, F1: 0.9396825396825397\n",
      "Epoch 145/200, Train Loss: 0.00021004866942335513, Val Loss: 0.02425150782884365, Accuracy: 0.9657657657657658, Precision: 0.9363057324840764, Recall: 0.9423076923076923, IoU: 0.8855421686746988, F1: 0.939297124600639\n",
      "Epoch 146/200, Train Loss: 0.00018745867698366343, Val Loss: 0.024776589657994917, Accuracy: 0.9675675675675676, Precision: 0.93125, Recall: 0.9551282051282052, IoU: 0.8922155688622755, F1: 0.9430379746835443\n",
      "Epoch 147/200, Train Loss: 0.00015340565984987072, Val Loss: 0.024210635064602165, Accuracy: 0.9693693693693693, Precision: 0.9426751592356688, Recall: 0.9487179487179487, IoU: 0.896969696969697, F1: 0.9456869009584664\n",
      "Epoch 148/200, Train Loss: 0.0002461903866038719, Val Loss: 0.024322576905667248, Accuracy: 0.9657657657657658, Precision: 0.9419354838709677, Recall: 0.9358974358974359, IoU: 0.8848484848484849, F1: 0.9389067524115755\n",
      "Epoch 149/200, Train Loss: 0.0004067023737530794, Val Loss: 0.024379714553028214, Accuracy: 0.9675675675675676, Precision: 0.9367088607594937, Recall: 0.9487179487179487, IoU: 0.891566265060241, F1: 0.9426751592356688\n",
      "Epoch 150/200, Train Loss: 0.0004368139404763654, Val Loss: 0.024699414582989576, Accuracy: 0.9675675675675676, Precision: 0.93125, Recall: 0.9551282051282052, IoU: 0.8922155688622755, F1: 0.9430379746835443\n",
      "Epoch 151/200, Train Loss: 0.00032396497225419034, Val Loss: 0.024357994589289386, Accuracy: 0.9693693693693693, Precision: 0.9602649006622517, Recall: 0.9294871794871795, IoU: 0.8950617283950617, F1: 0.9446254071661239\n",
      "Epoch 152/200, Train Loss: 0.00017963670236129721, Val Loss: 0.024466408600814508, Accuracy: 0.9657657657657658, Precision: 0.9363057324840764, Recall: 0.9423076923076923, IoU: 0.8855421686746988, F1: 0.939297124600639\n",
      "Epoch 153/200, Train Loss: 0.00029864765646406136, Val Loss: 0.024139031730010176, Accuracy: 0.9711711711711711, Precision: 0.9430379746835443, Recall: 0.9551282051282052, IoU: 0.9030303030303031, F1: 0.9490445859872612\n",
      "Epoch 154/200, Train Loss: 0.00022786751083658078, Val Loss: 0.02405744733654761, Accuracy: 0.9693693693693693, Precision: 0.9483870967741935, Recall: 0.9423076923076923, IoU: 0.8963414634146342, F1: 0.9453376205787781\n",
      "Epoch 155/200, Train Loss: 0.0002706929128913321, Val Loss: 0.0241085113841109, Accuracy: 0.9675675675675676, Precision: 0.9539473684210527, Recall: 0.9294871794871795, IoU: 0.8895705521472392, F1: 0.9415584415584416\n",
      "Epoch 156/200, Train Loss: 0.000579930115913707, Val Loss: 0.024110462233823324, Accuracy: 0.9675675675675676, Precision: 0.93125, Recall: 0.9551282051282052, IoU: 0.8922155688622755, F1: 0.9430379746835443\n",
      "Epoch 157/200, Train Loss: 0.0001749872584059958, Val Loss: 0.02431992407821651, Accuracy: 0.963963963963964, Precision: 0.9415584415584416, Recall: 0.9294871794871795, IoU: 0.8787878787878788, F1: 0.9354838709677419\n",
      "Epoch 158/200, Train Loss: 0.00027608904977785104, Val Loss: 0.024250300073513895, Accuracy: 0.9675675675675676, Precision: 0.9539473684210527, Recall: 0.9294871794871795, IoU: 0.8895705521472392, F1: 0.9415584415584416\n",
      "Epoch 159/200, Train Loss: 0.00033090773772757344, Val Loss: 0.024297443201898465, Accuracy: 0.9657657657657658, Precision: 0.9477124183006536, Recall: 0.9294871794871795, IoU: 0.8841463414634146, F1: 0.9385113268608415\n",
      "Epoch 160/200, Train Loss: 0.00027341631799382746, Val Loss: 0.02465393459216492, Accuracy: 0.9657657657657658, Precision: 0.9254658385093167, Recall: 0.9551282051282052, IoU: 0.8869047619047619, F1: 0.9400630914826499\n",
      "Epoch 161/200, Train Loss: 0.00018317323611626694, Val Loss: 0.024827429576544092, Accuracy: 0.9711711711711711, Precision: 0.9666666666666667, Recall: 0.9294871794871795, IoU: 0.9006211180124224, F1: 0.9477124183006537\n",
      "Epoch 162/200, Train Loss: 0.00027056431178816836, Val Loss: 0.024755470926174895, Accuracy: 0.9693693693693693, Precision: 0.9664429530201343, Recall: 0.9230769230769231, IoU: 0.8944099378881988, F1: 0.9442622950819671\n",
      "Epoch 163/200, Train Loss: 0.0003005502175854666, Val Loss: 0.024302384936267376, Accuracy: 0.9693693693693693, Precision: 0.9426751592356688, Recall: 0.9487179487179487, IoU: 0.896969696969697, F1: 0.9456869009584664\n",
      "Epoch 164/200, Train Loss: 0.00025911381646483606, Val Loss: 0.024579512908323, Accuracy: 0.9657657657657658, Precision: 0.9363057324840764, Recall: 0.9423076923076923, IoU: 0.8855421686746988, F1: 0.939297124600639\n",
      "Epoch 165/200, Train Loss: 0.0002105175327078083, Val Loss: 0.024529252576758153, Accuracy: 0.9693693693693693, Precision: 0.9602649006622517, Recall: 0.9294871794871795, IoU: 0.8950617283950617, F1: 0.9446254071661239\n",
      "Epoch 166/200, Train Loss: 0.00014752935918105656, Val Loss: 0.024130656393910092, Accuracy: 0.9711711711711711, Precision: 0.9430379746835443, Recall: 0.9551282051282052, IoU: 0.9030303030303031, F1: 0.9490445859872612\n",
      "Epoch 167/200, Train Loss: 0.0002536846040024913, Val Loss: 0.025188566745990622, Accuracy: 0.972972972972973, Precision: 0.9795918367346939, Recall: 0.9230769230769231, IoU: 0.9056603773584906, F1: 0.9504950495049506\n",
      "Epoch 168/200, Train Loss: 0.0003833340479186452, Val Loss: 0.023528199667427023, Accuracy: 0.9693693693693693, Precision: 0.9483870967741935, Recall: 0.9423076923076923, IoU: 0.8963414634146342, F1: 0.9453376205787781\n",
      "Epoch 169/200, Train Loss: 0.00026350461819825313, Val Loss: 0.02417171279833253, Accuracy: 0.9657657657657658, Precision: 0.9477124183006536, Recall: 0.9294871794871795, IoU: 0.8841463414634146, F1: 0.9385113268608415\n",
      "Epoch 170/200, Train Loss: 0.00022177912688289817, Val Loss: 0.024612290277478417, Accuracy: 0.9693693693693693, Precision: 0.9426751592356688, Recall: 0.9487179487179487, IoU: 0.896969696969697, F1: 0.9456869009584664\n",
      "Epoch 171/200, Train Loss: 0.0003899441860417126, Val Loss: 0.025529508528000275, Accuracy: 0.9657657657657658, Precision: 0.9254658385093167, Recall: 0.9551282051282052, IoU: 0.8869047619047619, F1: 0.9400630914826499\n",
      "Epoch 172/200, Train Loss: 0.000175456760167998, Val Loss: 0.023967481274822993, Accuracy: 0.9675675675675676, Precision: 0.9367088607594937, Recall: 0.9487179487179487, IoU: 0.891566265060241, F1: 0.9426751592356688\n",
      "Epoch 173/200, Train Loss: 0.0004974008406878043, Val Loss: 0.024701625261721868, Accuracy: 0.9675675675675676, Precision: 0.93125, Recall: 0.9551282051282052, IoU: 0.8922155688622755, F1: 0.9430379746835443\n",
      "Epoch 174/200, Train Loss: 0.00016652919282069306, Val Loss: 0.024272460202337243, Accuracy: 0.9675675675675676, Precision: 0.9367088607594937, Recall: 0.9487179487179487, IoU: 0.891566265060241, F1: 0.9426751592356688\n",
      "Epoch 175/200, Train Loss: 0.00023077115854235842, Val Loss: 0.024222247667577385, Accuracy: 0.9711711711711711, Precision: 0.9430379746835443, Recall: 0.9551282051282052, IoU: 0.9030303030303031, F1: 0.9490445859872612\n",
      "Epoch 176/200, Train Loss: 0.000259456278196902, Val Loss: 0.02465643929650209, Accuracy: 0.9657657657657658, Precision: 0.9308176100628931, Recall: 0.9487179487179487, IoU: 0.8862275449101796, F1: 0.9396825396825397\n",
      "Epoch 177/200, Train Loss: 0.00026359901278528726, Val Loss: 0.024668460377558533, Accuracy: 0.9675675675675676, Precision: 0.9367088607594937, Recall: 0.9487179487179487, IoU: 0.891566265060241, F1: 0.9426751592356688\n",
      "Epoch 178/200, Train Loss: 0.0002102478290919489, Val Loss: 0.023946482181781904, Accuracy: 0.9657657657657658, Precision: 0.9363057324840764, Recall: 0.9423076923076923, IoU: 0.8855421686746988, F1: 0.939297124600639\n",
      "Epoch 179/200, Train Loss: 0.0005787455811596308, Val Loss: 0.024219000490847974, Accuracy: 0.9693693693693693, Precision: 0.9602649006622517, Recall: 0.9294871794871795, IoU: 0.8950617283950617, F1: 0.9446254071661239\n",
      "Epoch 180/200, Train Loss: 0.0002496206834326821, Val Loss: 0.024307144315597336, Accuracy: 0.9657657657657658, Precision: 0.9308176100628931, Recall: 0.9487179487179487, IoU: 0.8862275449101796, F1: 0.9396825396825397\n",
      "Epoch 181/200, Train Loss: 0.00018868000926768676, Val Loss: 0.02445002327606614, Accuracy: 0.9657657657657658, Precision: 0.9308176100628931, Recall: 0.9487179487179487, IoU: 0.8862275449101796, F1: 0.9396825396825397\n",
      "Epoch 182/200, Train Loss: 0.0004116212567381638, Val Loss: 0.023768624019742543, Accuracy: 0.9693693693693693, Precision: 0.9602649006622517, Recall: 0.9294871794871795, IoU: 0.8950617283950617, F1: 0.9446254071661239\n",
      "Epoch 183/200, Train Loss: 0.00022871392255889968, Val Loss: 0.024555902101149385, Accuracy: 0.9675675675675676, Precision: 0.948051948051948, Recall: 0.9358974358974359, IoU: 0.8902439024390244, F1: 0.9419354838709677\n",
      "Epoch 184/200, Train Loss: 0.00037813921654959677, Val Loss: 0.02398290470758054, Accuracy: 0.9675675675675676, Precision: 0.9367088607594937, Recall: 0.9487179487179487, IoU: 0.891566265060241, F1: 0.9426751592356688\n",
      "Epoch 185/200, Train Loss: 0.0004045077280515994, Val Loss: 0.024973243714859043, Accuracy: 0.9675675675675676, Precision: 0.93125, Recall: 0.9551282051282052, IoU: 0.8922155688622755, F1: 0.9430379746835443\n",
      "Epoch 186/200, Train Loss: 0.00026163806325561864, Val Loss: 0.02498141914755771, Accuracy: 0.9657657657657658, Precision: 0.9254658385093167, Recall: 0.9551282051282052, IoU: 0.8869047619047619, F1: 0.9400630914826499\n",
      "Epoch 187/200, Train Loss: 0.00031455159742370387, Val Loss: 0.024456748596691925, Accuracy: 0.9657657657657658, Precision: 0.9477124183006536, Recall: 0.9294871794871795, IoU: 0.8841463414634146, F1: 0.9385113268608415\n",
      "Epoch 188/200, Train Loss: 0.0002231570118558155, Val Loss: 0.02503809209946277, Accuracy: 0.9675675675675676, Precision: 0.9259259259259259, Recall: 0.9615384615384616, IoU: 0.8928571428571429, F1: 0.9433962264150944\n",
      "Epoch 189/200, Train Loss: 0.0004995623622143802, Val Loss: 0.025532048176475135, Accuracy: 0.9693693693693693, Precision: 0.9316770186335404, Recall: 0.9615384615384616, IoU: 0.8982035928143712, F1: 0.9463722397476341\n",
      "Epoch 190/200, Train Loss: 0.0002541964885619282, Val Loss: 0.02497051433851344, Accuracy: 0.9693693693693693, Precision: 0.9316770186335404, Recall: 0.9615384615384616, IoU: 0.8982035928143712, F1: 0.9463722397476341\n",
      "Epoch 191/200, Train Loss: 0.00024534849469562674, Val Loss: 0.024279492038268864, Accuracy: 0.9693693693693693, Precision: 0.9371069182389937, Recall: 0.9551282051282052, IoU: 0.8975903614457831, F1: 0.946031746031746\n",
      "Epoch 192/200, Train Loss: 0.0002479633171559, Val Loss: 0.024325306060407975, Accuracy: 0.9657657657657658, Precision: 0.9308176100628931, Recall: 0.9487179487179487, IoU: 0.8862275449101796, F1: 0.9396825396825397\n",
      "Epoch 193/200, Train Loss: 0.00030674316001737327, Val Loss: 0.0317425673478283, Accuracy: 0.9531531531531532, Precision: 0.8823529411764706, Recall: 0.9615384615384616, IoU: 0.8522727272727273, F1: 0.920245398773006\n",
      "Epoch 194/200, Train Loss: 0.0004158658320154095, Val Loss: 0.02549098220811824, Accuracy: 0.9711711711711711, Precision: 0.972972972972973, Recall: 0.9230769230769231, IoU: 0.9, F1: 0.9473684210526315\n",
      "Epoch 195/200, Train Loss: 0.00032461835419996904, Val Loss: 0.024106701031061155, Accuracy: 0.9693693693693693, Precision: 0.954248366013072, Recall: 0.9358974358974359, IoU: 0.8957055214723927, F1: 0.9449838187702266\n",
      "Epoch 196/200, Train Loss: 0.0005416833046199813, Val Loss: 0.028368378762388603, Accuracy: 0.9603603603603603, Precision: 0.9036144578313253, Recall: 0.9615384615384616, IoU: 0.872093023255814, F1: 0.9316770186335404\n",
      "Epoch 197/200, Train Loss: 0.0003238033229058438, Val Loss: 0.025313254077419904, Accuracy: 0.9657657657657658, Precision: 0.9363057324840764, Recall: 0.9423076923076923, IoU: 0.8855421686746988, F1: 0.939297124600639\n",
      "Epoch 198/200, Train Loss: 0.00016647018956456717, Val Loss: 0.023948726028070917, Accuracy: 0.9675675675675676, Precision: 0.948051948051948, Recall: 0.9358974358974359, IoU: 0.8902439024390244, F1: 0.9419354838709677\n",
      "Epoch 199/200, Train Loss: 0.00027144731339019847, Val Loss: 0.02514829836187086, Accuracy: 0.963963963963964, Precision: 0.925, Recall: 0.9487179487179487, IoU: 0.8809523809523809, F1: 0.9367088607594937\n",
      "Epoch 200/200, Train Loss: 0.00026696364455873787, Val Loss: 0.025328026832929545, Accuracy: 0.9675675675675676, Precision: 0.9259259259259259, Recall: 0.9615384615384616, IoU: 0.8928571428571429, F1: 0.9433962264150944\n",
      "Training complete. Best model saved to best_unet_model.pth\n"
     ]
    }
   ],
   "source": [
    "criterion = nn.MSELoss()\n",
    "\n",
    "optimizer = optim.Adam(model.parameters(), lr=0.001)\n",
    "scheduler = torch.optim.lr_scheduler.ReduceLROnPlateau(optimizer, mode='min', factor=0.5, patience=5, verbose=True)\n",
    "\n",
    "for epoch in range(epochs):\n",
    "    model.train()\n",
    "    train_loss = 0.0\n",
    "\n",
    "    for batch in train_loader:\n",
    "        images = batch['image'].to(device)\n",
    "        dems = batch['dem'].to(device)\n",
    "        labels = batch['label'].to(device)\n",
    "\n",
    "        optimizer.zero_grad()\n",
    "        outputs = model(images, dems).squeeze(1) \n",
    "\n",
    "        binary_preds = (outputs > 0.5).float()\n",
    "\n",
    "        loss = criterion(outputs, labels)\n",
    "\n",
    "        loss.backward()\n",
    "        optimizer.step()\n",
    "\n",
    "        train_loss += loss.item()\n",
    "\n",
    "    train_loss /= len(train_loader)\n",
    "\n",
    "    model.eval()\n",
    "    val_loss = 0.0\n",
    "    all_preds = []\n",
    "    all_targets = []\n",
    "    with torch.no_grad():\n",
    "        for batch in val_loader:\n",
    "            images = batch['image'].to(device)\n",
    "            dems = batch['dem'].to(device)\n",
    "            labels = batch['label'].to(device)\n",
    "\n",
    "            outputs = model(images, dems).squeeze(1)\n",
    "\n",
    "            binary_preds = (outputs > 0.5).float()\n",
    "\n",
    "            loss = criterion(outputs, labels)\n",
    "            val_loss += loss.item()\n",
    "\n",
    "            preds = binary_preds.cpu().numpy().astype(int)\n",
    "            targets = labels.cpu().numpy().astype(int)\n",
    "            all_preds.append(preds)\n",
    "            all_targets.append(targets)\n",
    "\n",
    "    val_loss /= len(val_loader)\n",
    "\n",
    "    all_preds = np.concatenate([pred.flatten() for pred in all_preds])\n",
    "    all_targets = np.concatenate([target.flatten() for target in all_targets])\n",
    "\n",
    "    accuracy = accuracy_score(all_targets, all_preds)\n",
    "    precision = precision_score(all_targets, all_preds, zero_division=0)\n",
    "    recall = recall_score(all_targets, all_preds, zero_division=0)\n",
    "    f1 = f1_score(all_targets, all_preds)\n",
    "    iou = jaccard_score(all_targets, all_preds)\n",
    "\n",
    "    print(f\"Epoch {epoch + 1}/{epochs}, Train Loss: {train_loss}, Val Loss: {val_loss}, Accuracy: {accuracy}, Precision: {precision}, Recall: {recall}, IoU: {iou}, F1: {f1}\")\n",
    "\n",
    "    scheduler.step(val_loss)\n",
    "\n",
    "    if val_loss < best_val_loss:\n",
    "        best_val_loss = val_loss\n",
    "        torch.save(model.state_dict(), best_model_path)\n",
    "        print(f\"Saved best model with val loss: {best_val_loss}\")\n",
    "\n",
    "print(\"Training complete. Best model saved to\", best_model_path)"
   ]
  },
  {
   "cell_type": "code",
   "execution_count": null,
   "id": "c0137bf4",
   "metadata": {
    "papermill": {
     "duration": 0.012603,
     "end_time": "2025-03-19T15:24:46.304954",
     "exception": false,
     "start_time": "2025-03-19T15:24:46.292351",
     "status": "completed"
    },
    "tags": []
   },
   "outputs": [],
   "source": []
  }
 ],
 "metadata": {
  "kaggle": {
   "accelerator": "gpu",
   "dataSources": [
    {
     "datasetId": 6398811,
     "sourceId": 10334130,
     "sourceType": "datasetVersion"
    }
   ],
   "dockerImageVersionId": 30918,
   "isGpuEnabled": true,
   "isInternetEnabled": true,
   "language": "python",
   "sourceType": "notebook"
  },
  "kernelspec": {
   "display_name": "Python 3",
   "language": "python",
   "name": "python3"
  },
  "language_info": {
   "codemirror_mode": {
    "name": "ipython",
    "version": 3
   },
   "file_extension": ".py",
   "mimetype": "text/x-python",
   "name": "python",
   "nbconvert_exporter": "python",
   "pygments_lexer": "ipython3",
   "version": "3.10.12"
  },
  "papermill": {
   "default_parameters": {},
   "duration": 4716.733932,
   "end_time": "2025-03-19T15:24:49.909734",
   "environment_variables": {},
   "exception": null,
   "input_path": "__notebook__.ipynb",
   "output_path": "__notebook__.ipynb",
   "parameters": {},
   "start_time": "2025-03-19T14:06:13.175802",
   "version": "2.6.0"
  }
 },
 "nbformat": 4,
 "nbformat_minor": 5
}
